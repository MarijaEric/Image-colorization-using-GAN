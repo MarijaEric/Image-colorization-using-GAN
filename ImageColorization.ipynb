{
 "cells": [
  {
   "cell_type": "markdown",
   "id": "b677653f-517e-4a88-af71-6fc113b9de9c",
   "metadata": {},
   "source": [
    "# Kolorizacija slika"
   ]
  },
  {
   "cell_type": "markdown",
   "id": "19b618e8-2dfc-470d-bff2-511dad84045f",
   "metadata": {},
   "source": [
    "U svesci *cGAN* je detaljno objasnjen pristup rešavanja problema kolorizacije slika korišćenjem cGANA i njegova implementacija.\n",
    "U ovoj svesci ćemo učitati istrenirani model i prikazati rezultate kolorizacije na neviđenim instancama."
   ]
  },
  {
   "cell_type": "code",
   "execution_count": 33,
   "id": "e3537da9-1438-439f-bc05-1f76260da2a0",
   "metadata": {},
   "outputs": [],
   "source": [
    "import PIL\n",
    "import os\n",
    "from tqdm import tqdm\n",
    "import tensorflow as tf"
   ]
  },
  {
   "cell_type": "code",
   "execution_count": 34,
   "id": "56ac8670-aef7-4107-a9c3-81b8f077c25d",
   "metadata": {},
   "outputs": [],
   "source": [
    "path_test = \"data/test/\"\n",
    "path_test_bw = \"data/test_bw/\""
   ]
  },
  {
   "cell_type": "code",
   "execution_count": 35,
   "id": "03ee6e74-1446-4134-bfd9-42c45b0f2646",
   "metadata": {},
   "outputs": [],
   "source": [
    "img_test_names = os.listdir(path_test)"
   ]
  },
  {
   "cell_type": "code",
   "execution_count": 36,
   "id": "866a62a5-45a1-4168-b11f-229b9dffea1f",
   "metadata": {},
   "outputs": [
    {
     "data": {
      "text/plain": [
       "['0006.jpg', '0009.jpg', '0012.jpg', '0017.jpg', '0039.jpg']"
      ]
     },
     "execution_count": 36,
     "metadata": {},
     "output_type": "execute_result"
    }
   ],
   "source": [
    "img_test_names[:5]"
   ]
  },
  {
   "cell_type": "code",
   "execution_count": 37,
   "id": "c55ac8ca-0024-4563-90b1-1aca074f9fff",
   "metadata": {},
   "outputs": [
    {
     "name": "stderr",
     "output_type": "stream",
     "text": [
      "100%|████████████████████████████████████████████████████████████████████████████████| 228/228 [00:02<00:00, 85.83it/s]\n"
     ]
    }
   ],
   "source": [
    "def deColorization(path):\n",
    "    for image in tqdm(path):\n",
    "        try:\n",
    "            img = PIL.Image.open(path_test + image)\n",
    "            img = img.convert('L')\n",
    "            img = img.convert('RGB')\n",
    "            img.save(path_test_bw + image)\n",
    "        except:\n",
    "            # Pošto su u originalnom skupu postojale nevalidne slike, koje su izbacivale grešku prilikom pozivanja open\n",
    "            # Ukoliko je greška, briše se iz skupa podataka \n",
    "            \n",
    "            os.remove(path_test + image)\n",
    "            pass\n",
    "deColorization(img_test_names)"
   ]
  },
  {
   "cell_type": "code",
   "execution_count": 38,
   "id": "37f7a095-eed0-49c7-9964-9ec2f5bd9b7a",
   "metadata": {},
   "outputs": [],
   "source": [
    "img_size = 256 \n",
    "\n",
    "@tf.function\n",
    "# Skaliranje\n",
    "def resize(input_img, tar_img, img_size):\n",
    "    input_img = tf.image.resize(input_img, [img_size, img_size])\n",
    "    tar_img = tf.image.resize(tar_img, [img_size, img_size])\n",
    "    \n",
    "    return input_img, tar_img\n",
    "\n",
    "#Normalizacija\n",
    "# Vrednosti u svakom kanalu su u intervalu [0, 255]\n",
    "# Skaliramo ih na interval [-1, 1]\n",
    "\n",
    "def normalize(input_img, tar_img):\n",
    "    input_img = (input_img/255.) - 1\n",
    "    tar_img = (tar_img/255.) - 1\n",
    "    return input_img, tar_img\n",
    "\n",
    "def load_image(filename):\n",
    "    input_img = tf.cast(tf.image.decode_jpeg(tf.io.read_file(path_test_bw + filename)), tf.float32)[..., :3]\n",
    "    tar_img = tf.cast(tf.image.decode_jpeg(tf.io.read_file(path_test + filename)), tf.float32)[..., :3]\n",
    "    input_img, tar_img = resize(input_img, tar_img, img_size)\n",
    "    \n",
    "    input_img, tar_img = normalize(input_img, tar_img)\n",
    "    return input_img, tar_img\n",
    "\n",
    "\n",
    "def load_train_image(filename):\n",
    "    return load_image(filename)\n",
    "\n",
    "test_dataset = tf.data.Dataset.from_tensor_slices(img_test_names)\n",
    "test_dataset = test_dataset.map(load_train_image, num_parallel_calls=tf.data.experimental.AUTOTUNE)\n",
    "test_dataset = test_dataset.batch(1)\n"
   ]
  },
  {
   "cell_type": "markdown",
   "id": "c89d47b9-8751-4af5-8b92-fb0fac23373e",
   "metadata": {},
   "source": [
    "## Učitavanje modela"
   ]
  },
  {
   "cell_type": "code",
   "execution_count": 39,
   "id": "c5bf6af3-63ba-450e-bff9-432d97f1a049",
   "metadata": {},
   "outputs": [
    {
     "name": "stdout",
     "output_type": "stream",
     "text": [
      "WARNING:tensorflow:No training configuration found in save file, so the model was *not* compiled. Compile it manually.\n"
     ]
    }
   ],
   "source": [
    "generator = tf.keras.models.load_model('model/colorizer')"
   ]
  },
  {
   "cell_type": "code",
   "execution_count": 40,
   "id": "a435d74a-04c5-4516-8dd6-11e47632bf78",
   "metadata": {},
   "outputs": [
    {
     "name": "stdout",
     "output_type": "stream",
     "text": [
      "228/228 [==============================] - 63s 268ms/step\n"
     ]
    }
   ],
   "source": [
    "predicted_imgs = generator.predict(test_dataset)"
   ]
  },
  {
   "cell_type": "code",
   "execution_count": null,
   "id": "06cfc0a0-2fd9-4fb7-a713-20dbee197f9a",
   "metadata": {},
   "outputs": [],
   "source": []
  },
  {
   "cell_type": "code",
   "execution_count": null,
   "id": "5e19dd9b-a047-464f-a921-1b057d07badb",
   "metadata": {},
   "outputs": [],
   "source": []
  }
 ],
 "metadata": {
  "kernelspec": {
   "display_name": "Python 3 (ipykernel)",
   "language": "python",
   "name": "python3"
  },
  "language_info": {
   "codemirror_mode": {
    "name": "ipython",
    "version": 3
   },
   "file_extension": ".py",
   "mimetype": "text/x-python",
   "name": "python",
   "nbconvert_exporter": "python",
   "pygments_lexer": "ipython3",
   "version": "3.10.4"
  }
 },
 "nbformat": 4,
 "nbformat_minor": 5
}
